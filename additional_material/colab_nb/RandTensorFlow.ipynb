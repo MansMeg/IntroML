{
  "nbformat": 4,
  "nbformat_minor": 0,
  "metadata": {
    "colab": {
      "name": "RKeras (1).ipynb",
      "provenance": [],
      "gpuType": "T4"
    },
    "kernelspec": {
      "name": "ir",
      "display_name": "R"
    },
    "language_info": {
      "name": "R"
    },
    "accelerator": "GPU"
  },
  "cells": [
    {
      "cell_type": "markdown",
      "metadata": {
        "id": "WTXZT8AvUZdi"
      },
      "source": [
        "First we can install the r-packages we need (modify as necessary)\n",
        "\n",
        "Note: `devtools::install_github(\"rstudio/keras\")` also installs dependencies. In the backend, it still depends on Python and Tensorflow or Pytorch."
      ]
    },
    {
      "cell_type": "code",
      "metadata": {
        "colab": {
          "base_uri": "https://localhost:8080/"
        },
        "id": "2z5iEtH3NZIn",
        "outputId": "a3c87544-f406-4273-96db-439c9ce1fdd8"
      },
      "source": [
        "devtools::install_github(\"rstudio/keras\")\n",
        "install.packages(\"remotes\")\n",
        "remotes::install_github(\"MansMeg/IntroML\",\n",
        "subdir = \"rpackage\")"
      ],
      "execution_count": 1,
      "outputs": [
        {
          "output_type": "stream",
          "name": "stderr",
          "text": [
            "Downloading GitHub repo rstudio/keras@HEAD\n",
            "\n"
          ]
        },
        {
          "output_type": "stream",
          "name": "stdout",
          "text": [
            "tensorflow  (NA  -> eeb1e66b5...) [GitHub]\n",
            "png         (NA  -> 0.1-8       ) [CRAN]\n",
            "here        (NA  -> 1.0.1       ) [CRAN]\n",
            "RcppTOML    (NA  -> 0.2.2       ) [CRAN]\n",
            "Rcpp        (NA  -> 1.0.11      ) [CRAN]\n",
            "reticulate  (NA  -> 1.34.0      ) [CRAN]\n",
            "whisker     (0.4 -> 0.4.1       ) [CRAN]\n",
            "config      (NA  -> 0.3.2       ) [CRAN]\n",
            "tfautograph (NA  -> 0.3.2       ) [CRAN]\n",
            "tfruns      (NA  -> 1.5.1       ) [CRAN]\n",
            "zeallot     (NA  -> 0.1.0       ) [CRAN]\n"
          ]
        },
        {
          "output_type": "stream",
          "name": "stderr",
          "text": [
            "Downloading GitHub repo rstudio/tensorflow@HEAD\n",
            "\n"
          ]
        },
        {
          "output_type": "stream",
          "name": "stdout",
          "text": [
            "png         (NA  -> 0.1-8 ) [CRAN]\n",
            "here        (NA  -> 1.0.1 ) [CRAN]\n",
            "RcppTOML    (NA  -> 0.2.2 ) [CRAN]\n",
            "Rcpp        (NA  -> 1.0.11) [CRAN]\n",
            "reticulate  (NA  -> 1.34.0) [CRAN]\n",
            "whisker     (0.4 -> 0.4.1 ) [CRAN]\n",
            "config      (NA  -> 0.3.2 ) [CRAN]\n",
            "tfautograph (NA  -> 0.3.2 ) [CRAN]\n",
            "tfruns      (NA  -> 1.5.1 ) [CRAN]\n"
          ]
        },
        {
          "output_type": "stream",
          "name": "stderr",
          "text": [
            "Installing 9 packages: png, here, RcppTOML, Rcpp, reticulate, whisker, config, tfautograph, tfruns\n",
            "\n",
            "Installing packages into ‘/usr/local/lib/R/site-library’\n",
            "(as ‘lib’ is unspecified)\n",
            "\n"
          ]
        },
        {
          "output_type": "stream",
          "name": "stdout",
          "text": [
            "\u001b[36m──\u001b[39m \u001b[36mR CMD build\u001b[39m \u001b[36m─────────────────────────────────────────────────────────────────\u001b[39m\n",
            "* checking for file ‘/tmp/RtmpoRL3Wa/remotes123a2e370b/rstudio-tensorflow-eeb1e66/DESCRIPTION’ ... OK\n",
            "* preparing ‘tensorflow’:\n",
            "* checking DESCRIPTION meta-information ... OK\n",
            "* checking for LF line-endings in source and make files and shell scripts\n",
            "* checking for empty or unneeded directories\n",
            "* building ‘tensorflow_2.14.0.9000.tar.gz’\n",
            "\n"
          ]
        },
        {
          "output_type": "stream",
          "name": "stderr",
          "text": [
            "Installing package into ‘/usr/local/lib/R/site-library’\n",
            "(as ‘lib’ is unspecified)\n",
            "\n",
            "Installing 10 packages: png, here, RcppTOML, Rcpp, reticulate, whisker, config, tfautograph, tfruns, zeallot\n",
            "\n",
            "Installing packages into ‘/usr/local/lib/R/site-library’\n",
            "(as ‘lib’ is unspecified)\n",
            "\n",
            "Skipping install of 'tensorflow' from a github remote, the SHA1 (eeb1e66b) has not changed since last install.\n",
            "  Use `force = TRUE` to force installation\n",
            "\n"
          ]
        },
        {
          "output_type": "stream",
          "name": "stdout",
          "text": [
            "\u001b[36m──\u001b[39m \u001b[36mR CMD build\u001b[39m \u001b[36m─────────────────────────────────────────────────────────────────\u001b[39m\n",
            "* checking for file ‘/tmp/RtmpoRL3Wa/remotes1234762bbd8/rstudio-keras-51e7d77/DESCRIPTION’ ... OK\n",
            "* preparing ‘keras’:\n",
            "* checking DESCRIPTION meta-information ... OK\n",
            "* checking for LF line-endings in source and make files and shell scripts\n",
            "* checking for empty or unneeded directories\n",
            "Removed empty directory ‘keras/man-roxygen’\n",
            "* building ‘keras_2.13.0.9000.tar.gz’\n",
            "\n"
          ]
        },
        {
          "output_type": "stream",
          "name": "stderr",
          "text": [
            "Installing package into ‘/usr/local/lib/R/site-library’\n",
            "(as ‘lib’ is unspecified)\n",
            "\n",
            "Installing package into ‘/usr/local/lib/R/site-library’\n",
            "(as ‘lib’ is unspecified)\n",
            "\n",
            "Downloading GitHub repo MansMeg/IntroML@HEAD\n",
            "\n"
          ]
        },
        {
          "output_type": "stream",
          "name": "stdout",
          "text": [
            "checkmate (NA -> 2.3.0) [CRAN]\n"
          ]
        },
        {
          "output_type": "stream",
          "name": "stderr",
          "text": [
            "Installing 1 packages: checkmate\n",
            "\n",
            "Installing package into ‘/usr/local/lib/R/site-library’\n",
            "(as ‘lib’ is unspecified)\n",
            "\n"
          ]
        },
        {
          "output_type": "stream",
          "name": "stdout",
          "text": [
            "\u001b[36m──\u001b[39m \u001b[36mR CMD build\u001b[39m \u001b[36m─────────────────────────────────────────────────────────────────\u001b[39m\n",
            "* checking for file ‘/tmp/RtmpoRL3Wa/remotes12328ceec06/MansMeg-IntroML-ddc0c8a/rpackage/DESCRIPTION’ ... OK\n",
            "* preparing ‘uuml’:\n",
            "* checking DESCRIPTION meta-information ... OK\n",
            "* checking for LF line-endings in source and make files and shell scripts\n",
            "* checking for empty or unneeded directories\n",
            "* building ‘uuml_0.3.0.tar.gz’\n",
            "\n"
          ]
        },
        {
          "output_type": "stream",
          "name": "stderr",
          "text": [
            "Installing package into ‘/usr/local/lib/R/site-library’\n",
            "(as ‘lib’ is unspecified)\n",
            "\n"
          ]
        }
      ]
    },
    {
      "cell_type": "markdown",
      "metadata": {
        "id": "5R4H6SKWU5mS"
      },
      "source": [
        "Then we can run some r-code to make sure everything works\n",
        "\n",
        "Note: It is not necessary to run `library('tensorflow')` and `install_tensorflow()` since TensorFlow is already installed in the colab environemnt."
      ]
    },
    {
      "cell_type": "code",
      "metadata": {
        "id": "U9W3vQrvPKin",
        "colab": {
          "base_uri": "https://localhost:8080/",
          "height": 437
        },
        "outputId": "64f99e60-93ee-4d9a-dbaf-1075c6982396"
      },
      "source": [
        "library(keras)\n",
        "mnist <- dataset_mnist()\n",
        "\n",
        "idx <- 2\n",
        "im <- mnist$train$x[idx,,]\n",
        "# Transpose the image\n",
        "im <- t(apply(im, 2, rev))\n",
        "image(1:28, 1:28, im, col=gray((0:255)/255), xlab = \"\", ylab = \"\",\n",
        "xaxt='n', yaxt='n', main=paste(mnist$train$y[idx]))"
      ],
      "execution_count": 2,
      "outputs": [
        {
          "output_type": "display_data",
          "data": {
            "text/plain": [
              "Plot with title “0”"
            ],
            "image/png": "[encoded data removed]"
          },
          "metadata": {
            "image/png": {
              "width": 420,
              "height": 420
            }
          }
        }
      ]
    },
    {
      "cell_type": "markdown",
      "metadata": {
        "id": "SyZPyhskW5MI"
      },
      "source": [
        "And run the example from https://tensorflow.rstudio.com/tutorials/beginners/ to make sure model training works\n",
        "\n",
        "Note! Currently this notebook won't output anything during training so we have to `plot(history)`"
      ]
    },
    {
      "cell_type": "code",
      "metadata": {
        "id": "bMjcjAxnQYO-",
        "colab": {
          "base_uri": "https://localhost:8080/"
        },
        "outputId": "4a7a475e-1eb1-4ad5-f777-3a837df9f3ea"
      },
      "source": [
        "mnist$train$x <- mnist$train$x/255\n",
        "mnist$test$x <- mnist$test$x/255\n",
        "\n",
        "model <- keras_model_sequential() %>%\n",
        "  layer_flatten(input_shape = c(28, 28)) %>%\n",
        "  layer_dense(units = 16, activation = \"sigmoid\") %>%\n",
        "  layer_dense(10, activation = \"softmax\")\n",
        "\n",
        "  summary(model)\n",
        "\n",
        "  model %>%\n",
        "  compile(\n",
        "    loss = \"sparse_categorical_crossentropy\",\n",
        "    optimizer = \"sgd\",\n",
        "    metrics = \"accuracy\"\n",
        "  )\n",
        "\n",
        "  history <- model %>%\n",
        "  fit(\n",
        "    x = mnist$train$x, y = mnist$train$y,\n",
        "    epochs = 5,\n",
        "    validation_split = 0.3,\n",
        "    verbose = 2\n",
        "  )"
      ],
      "execution_count": 3,
      "outputs": [
        {
          "output_type": "stream",
          "name": "stdout",
          "text": [
            "Model: \"sequential\"\n",
            "________________________________________________________________________________\n",
            " Layer (type)                       Output Shape                    Param #     \n",
            "================================================================================\n",
            " flatten (Flatten)                  (None, 784)                     0           \n",
            " dense_1 (Dense)                    (None, 16)                      12560       \n",
            " dense (Dense)                      (None, 10)                      170         \n",
            "================================================================================\n",
            "Total params: 12730 (49.73 KB)\n",
            "Trainable params: 12730 (49.73 KB)\n",
            "Non-trainable params: 0 (0.00 Byte)\n",
            "________________________________________________________________________________\n"
          ]
        }
      ]
    },
    {
      "cell_type": "code",
      "metadata": {
        "colab": {
          "base_uri": "https://localhost:8080/",
          "height": 437
        },
        "id": "OG6ZfguUXF2f",
        "outputId": "32d53d60-5c09-4dee-d3a9-70fba7dd3f71"
      },
      "source": [
        "plot(history)"
      ],
      "execution_count": 13,
      "outputs": [
        {
          "output_type": "display_data",
          "data": {
            "text/plain": [
              "plot without title"
            ],
            "image/png": "[encoded data removed]"
          },
          "metadata": {
            "image/png": {
              "width": 420,
              "height": 420
            }
          }
        }
      ]
    }
  ]
}