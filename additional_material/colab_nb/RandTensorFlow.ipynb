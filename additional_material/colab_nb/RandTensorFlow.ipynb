{
  "cells": [
    {
      "cell_type": "markdown",
      "metadata": {
        "id": "dqGlPc-_UQLr"
      },
      "source": [
        "First we need to install miniconda in the colab environment to be able to run python backend for tensorflow. This and the following cell will take about one to two minutes each to run and needs to be done everytime you connect to colab."
      ]
    },
    {
      "cell_type": "code",
      "execution_count": 1,
      "metadata": {
        "colab": {
          "base_uri": "https://localhost:8080/",
          "height": 347
        },
        "id": "Qf6q4fwaNWBt",
        "outputId": "0e4a3326-a057-40d0-9e97-3c0901386b63",
        "vscode": {
          "languageId": "r"
        }
      },
      "outputs": [
        {
          "output_type": "stream",
          "name": "stderr",
          "text": [
            "Installing package into ‘/usr/local/lib/R/site-library’\n",
            "(as ‘lib’ is unspecified)\n",
            "\n",
            "also installing the dependencies ‘RcppTOML’, ‘here’, ‘png’\n",
            "\n",
            "\n",
            "* Installing Miniconda -- please wait a moment ...\n",
            "\n",
            "* Downloading 'https://repo.anaconda.com/miniconda/Miniconda3-latest-Linux-x86_64.sh' ...\n",
            "\n",
            "+ /usr/bin/bash /tmp/RtmplAOAgA/Miniconda3-latest-Linux-x86_64.sh -b -u -p '/root/.local/share/r-miniconda'\n",
            "\n",
            "+ /root/.local/share/r-miniconda/bin/conda update --yes --name base conda\n",
            "\n",
            "+ /root/.local/share/r-miniconda/bin/conda create --yes --name r-reticulate 'python=3.10' numpy --quiet -c conda-forge\n",
            "\n",
            "* Miniconda has been successfully installed at \"~/.local/share/r-miniconda\".\n",
            "\n"
          ]
        },
        {
          "output_type": "display_data",
          "data": {
            "text/html": [
              "'/root/.local/share/r-miniconda'"
            ],
            "text/markdown": "'/root/.local/share/r-miniconda'",
            "text/latex": "'/root/.local/share/r-miniconda'",
            "text/plain": [
              "[1] \"/root/.local/share/r-miniconda\""
            ]
          },
          "metadata": {}
        }
      ],
      "source": [
        "install.packages('reticulate')\n",
        "reticulate::install_miniconda()"
      ]
    },
    {
      "cell_type": "markdown",
      "metadata": {
        "id": "WTXZT8AvUZdi"
      },
      "source": [
        "Then we can install the r-packages we need (modify as necessary)"
      ]
    },
    {
      "cell_type": "code",
      "execution_count": 2,
      "metadata": {
        "colab": {
          "base_uri": "https://localhost:8080/"
        },
        "id": "2z5iEtH3NZIn",
        "outputId": "afa6fd64-98fa-4265-c0e9-796465f9a19a",
        "vscode": {
          "languageId": "r"
        }
      },
      "outputs": [
        {
          "output_type": "stream",
          "name": "stderr",
          "text": [
            "Installing package into ‘/usr/local/lib/R/site-library’\n",
            "(as ‘lib’ is unspecified)\n",
            "\n",
            "also installing the dependencies ‘config’, ‘tfruns’, ‘tfautograph’\n",
            "\n",
            "\n",
            "Installing package into ‘/usr/local/lib/R/site-library’\n",
            "(as ‘lib’ is unspecified)\n",
            "\n",
            "also installing the dependency ‘zeallot’\n",
            "\n",
            "\n",
            "Installing package into ‘/usr/local/lib/R/site-library’\n",
            "(as ‘lib’ is unspecified)\n",
            "\n",
            "Downloading GitHub repo MansMeg/IntroML@HEAD\n",
            "\n"
          ]
        },
        {
          "output_type": "stream",
          "name": "stdout",
          "text": [
            "checkmate (NA -> 2.3.2) [CRAN]\n"
          ]
        },
        {
          "output_type": "stream",
          "name": "stderr",
          "text": [
            "Installing 1 packages: checkmate\n",
            "\n",
            "Installing package into ‘/usr/local/lib/R/site-library’\n",
            "(as ‘lib’ is unspecified)\n",
            "\n"
          ]
        },
        {
          "output_type": "stream",
          "name": "stdout",
          "text": [
            "\u001b[36m──\u001b[39m \u001b[36mR CMD build\u001b[39m \u001b[36m─────────────────────────────────────────────────────────────────\u001b[39m\n",
            "* checking for file ‘/tmp/RtmplAOAgA/remotes10e2b0b5132/MansMeg-IntroML-a2d2824/rpackage/DESCRIPTION’ ... OK\n",
            "* preparing ‘uuml’:\n",
            "* checking DESCRIPTION meta-information ... OK\n",
            "* checking for LF line-endings in source and make files and shell scripts\n",
            "* checking for empty or unneeded directories\n",
            "* building ‘uuml_0.4.0.tar.gz’\n",
            "\n"
          ]
        },
        {
          "output_type": "stream",
          "name": "stderr",
          "text": [
            "Installing package into ‘/usr/local/lib/R/site-library’\n",
            "(as ‘lib’ is unspecified)\n",
            "\n"
          ]
        }
      ],
      "source": [
        "install.packages('tensorflow')\n",
        "install.packages('keras')\n",
        "install.packages(\"remotes\")\n",
        "remotes::install_github(\"MansMeg/IntroML\",\n",
        "subdir = \"rpackage\")"
      ]
    },
    {
      "cell_type": "markdown",
      "metadata": {
        "id": "GlbD97FLUosy"
      },
      "source": [
        "Once the tensorflow and keras r-packages are installed we can run the `install_keras()` command to install tensorflow."
      ]
    },
    {
      "cell_type": "code",
      "execution_count": 3,
      "metadata": {
        "colab": {
          "base_uri": "https://localhost:8080/"
        },
        "id": "3CjxsXr4OpbF",
        "outputId": "db4710e5-0715-43f9-e52c-0a31db0a83e9",
        "vscode": {
          "languageId": "r"
        }
      },
      "outputs": [
        {
          "output_type": "stream",
          "name": "stderr",
          "text": [
            "+ /root/.local/share/r-miniconda/bin/conda create --yes --name r-tensorflow 'python=3.9' --quiet -c conda-forge\n",
            "\n",
            "+ /root/.local/share/r-miniconda/bin/conda install --yes --name r-tensorflow 'python=3.9' -c conda-forge\n",
            "\n"
          ]
        },
        {
          "output_type": "stream",
          "name": "stdout",
          "text": [
            "\n",
            "Installation complete.\n",
            "\n"
          ]
        }
      ],
      "source": [
        "library('keras')\n",
        "install_keras(method = \"conda\", python_version = \"3.9\")"
      ]
    },
    {
      "cell_type": "markdown",
      "source": [
        "Due to some issues with the dataset caching for the mnist dataset we need to manually download it separately."
      ],
      "metadata": {
        "id": "7A2UFudooHUo"
      }
    },
    {
      "cell_type": "code",
      "source": [
        "url <- \"https://storage.googleapis.com/tensorflow/tf-keras-datasets/mnist.npz\"\n",
        "destfile <- \"/root/.keras/datasets/mnist.npz\"\n",
        "dir.create(dirname(destfile), recursive = TRUE, showWarnings = FALSE)\n",
        "download.file(url, destfile, mode = \"wb\")"
      ],
      "metadata": {
        "id": "_hMPjVHpmLgr"
      },
      "execution_count": 4,
      "outputs": []
    },
    {
      "cell_type": "markdown",
      "metadata": {
        "id": "5R4H6SKWU5mS"
      },
      "source": [
        "Finally we can run some r-code to make sure everything works"
      ]
    },
    {
      "cell_type": "code",
      "execution_count": 5,
      "metadata": {
        "colab": {
          "base_uri": "https://localhost:8080/",
          "height": 437
        },
        "id": "U9W3vQrvPKin",
        "outputId": "bcebbaad-084b-4d83-a28b-f494a1561ad2",
        "vscode": {
          "languageId": "r"
        }
      },
      "outputs": [
        {
          "output_type": "display_data",
          "data": {
            "text/plain": [
              "Plot with title “0”"
            ],
            "image/png": "[encoded data removed]"
          },
          "metadata": {
            "image/png": {
              "width": 420,
              "height": 420
            }
          }
        }
      ],
      "source": [
        "library(keras)\n",
        "mnist <- dataset_mnist(path = 'mnist.npz')\n",
        "\n",
        "idx <- 2\n",
        "im <- mnist$train$x[idx,,]\n",
        "# Transpose the image\n",
        "im <- t(apply(im, 2, rev))\n",
        "image(1:28, 1:28, im, col=gray((0:255)/255), xlab = \"\", ylab = \"\",\n",
        "xaxt='n', yaxt='n', main=paste(mnist$train$y[idx]))"
      ]
    },
    {
      "cell_type": "markdown",
      "metadata": {
        "id": "SyZPyhskW5MI"
      },
      "source": [
        "And run the example from https://tensorflow.rstudio.com/tutorials/beginners/ to make sure model training works\n",
        "\n",
        "Note! Currently this notebook won't output anything during training so we have to `plot(history)`"
      ]
    },
    {
      "cell_type": "code",
      "execution_count": 6,
      "metadata": {
        "colab": {
          "base_uri": "https://localhost:8080/"
        },
        "id": "bMjcjAxnQYO-",
        "outputId": "ad8bef1d-8ff6-49a0-ba7f-1e84d6b518c5",
        "vscode": {
          "languageId": "r"
        }
      },
      "outputs": [
        {
          "output_type": "stream",
          "name": "stdout",
          "text": [
            "Model: \"sequential\"\n",
            "________________________________________________________________________________\n",
            " Layer (type)                       Output Shape                    Param #     \n",
            "================================================================================\n",
            " flatten (Flatten)                  (None, 784)                     0           \n",
            " dense_1 (Dense)                    (None, 16)                      12560       \n",
            " dense (Dense)                      (None, 10)                      170         \n",
            "================================================================================\n",
            "Total params: 12730 (49.73 KB)\n",
            "Trainable params: 12730 (49.73 KB)\n",
            "Non-trainable params: 0 (0.00 Byte)\n",
            "________________________________________________________________________________\n"
          ]
        }
      ],
      "source": [
        "mnist$train$x <- mnist$train$x/255\n",
        "mnist$test$x <- mnist$test$x/255\n",
        "\n",
        "model <- keras_model_sequential() %>%\n",
        "  layer_flatten(input_shape = c(28, 28)) %>%\n",
        "  layer_dense(units = 16, activation = \"sigmoid\") %>%\n",
        "  layer_dense(10, activation = \"softmax\")\n",
        "\n",
        "  summary(model)\n",
        "\n",
        "  model %>%\n",
        "  compile(\n",
        "    loss = \"sparse_categorical_crossentropy\",\n",
        "    optimizer = \"sgd\",\n",
        "    metrics = \"accuracy\"\n",
        "  )\n",
        "\n",
        "  history <- model %>%\n",
        "  fit(\n",
        "    x = mnist$train$x, y = mnist$train$y,\n",
        "    epochs = 5,\n",
        "    validation_split = 0.3,\n",
        "    verbose = 2\n",
        "  )"
      ]
    },
    {
      "cell_type": "code",
      "execution_count": 7,
      "metadata": {
        "colab": {
          "base_uri": "https://localhost:8080/",
          "height": 437
        },
        "id": "OG6ZfguUXF2f",
        "outputId": "70181603-93e4-42ee-b67f-0b1faac5a374",
        "vscode": {
          "languageId": "r"
        }
      },
      "outputs": [
        {
          "output_type": "display_data",
          "data": {
            "text/plain": [
              "plot without title"
            ],
            "image/png": "[encoded data removed]"
          },
          "metadata": {
            "image/png": {
              "width": 420,
              "height": 420
            }
          }
        }
      ],
      "source": [
        "plot(history)"
      ]
    }
  ],
  "metadata": {
    "colab": {
      "provenance": []
    },
    "kernelspec": {
      "display_name": "R",
      "name": "ir"
    },
    "language_info": {
      "name": "R"
    }
  },
  "nbformat": 4,
  "nbformat_minor": 0
}